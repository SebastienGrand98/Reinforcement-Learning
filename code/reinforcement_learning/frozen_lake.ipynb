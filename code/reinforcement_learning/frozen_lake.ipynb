{
  "cells": [
    {
      "cell_type": "markdown",
      "metadata": {
        "id": "RJrktX7AmZcM"
      },
      "source": [
        "# Practical Session: Reinforcement Learning"
      ]
    },
    {
      "cell_type": "markdown",
      "metadata": {
        "id": "rzx_cSMTmZcO"
      },
      "source": [
        "In this practical session, you will implement the [Value iteration and Policy iteration algorithms](https://www.ics.uci.edu/~dechter/publications/r42a-mdp_report.pdf) algorithm and test it in a reinforcement learning toy environment."
      ]
    },
    {
      "cell_type": "markdown",
      "metadata": {
        "id": "-RTxPmhImZcP"
      },
      "source": [
        "# OpenAI Gym"
      ]
    },
    {
      "cell_type": "markdown",
      "metadata": {
        "id": "obRbGucXmZcQ"
      },
      "source": [
        "The [Gym library](https://www.google.com/search?client=firefox-b-d&q=openai+gym)  is a collection of test problems (or environments) developed by [OpenAI](https://openai.com/) sharing a standard interface.\n",
        "This standard interface allows us to write general reinforcement learning algorithms and test them on several environments without many adaptations.\n",
        "\n",
        "Gym's interface is straightforward. \n",
        "Its core object is an **environment**, usually created with the instruction \n",
        "```python\n",
        "gym.make(\"ENV_NAME\")\n",
        "```\n",
        "A gym environment has three key methods:\n",
        "* `reset()`: this method reset the environment and return an observation of a random initial state \n",
        "* `step(a)`: this method takes action `a` and returns three variables:\n",
        "    * `observation`: the observation of the next state\n",
        "    * `reward`: the reward obtained after transitioning from the previous state to the new one taking action `a`\n",
        "    * `done`: a boolean indicating if an episode is finished\n",
        "    * `info`: a variable used to pass any other kind of information\n",
        "* `render()` this method renders the current state of the environment"
      ]
    },
    {
      "cell_type": "markdown",
      "metadata": {
        "id": "yYM2SL66mZcS"
      },
      "source": [
        "## Frozen Lake\n",
        "\n",
        "[Frozen lake](https://gym.openai.com/envs/FrozenLake-v0/) is an elementary \"grid-world\" environment provided in OpenAi Gym.\n",
        "Starting from a non-changing initial position, you control an agent whose objective is to reach a goal located at the exact opposite of the map.\n",
        "Some of the tiles are walkable, some other are holes ,and walking on them leads to the end of the episode. Due to the slipperiness of the frozen lake, some randomness is added in the transitions meaning that the movement direction of the agent is uncertain and only partially depends on the chosen direction.\n",
        "\n",
        "Here is the official FrozenLake description provided by OpenAI:\n",
        "\n",
        "*Winter is here. You and your friends were tossing around a frisbee at the park when you made a wild throw that left the frisbee out in the middle of the lake. The water is mostly frozen, but there are a few holes where the ice has melted. If you step into one of those holes, you'll fall into the freezing water. At this time, there's an international frisbee shortage, so it's absolutely imperative that you navigate across the lake and retrieve the disc. However, the ice is slippery, so you won't always move in the direction you intend.*\n",
        "\n",
        "*The surface is described using a grid like the following:*\n",
        "```\n",
        "SFFF       (S: starting point, safe)\n",
        "FHFH       (F: frozen surface, safe)\n",
        "FFFH       (H: hole, fall to your doom)\n",
        "HFFG       (G: goal, where the frisbee is located)\n",
        "```\n",
        "*The episode ends when you reach the goal or fall in a hole. You receive a reward of 1 if you reach the goal, and zero otherwise.*\n",
        "\n",
        "Let's instantiate a FrozenLake environment:"
      ]
    },
    {
      "cell_type": "code",
      "execution_count": 1,
      "metadata": {
        "id": "9Z9dyVUcmZcS",
        "outputId": "5a04cc43-95c0-4df0-8ee6-fd8b79bf416c",
        "colab": {
          "base_uri": "https://localhost:8080/"
        }
      },
      "outputs": [
        {
          "output_type": "stream",
          "name": "stdout",
          "text": [
            "\n",
            "\u001b[41mS\u001b[0mFFFFFFF\n",
            "FFFFFFFF\n",
            "FFFHFFFF\n",
            "FFFFFHFF\n",
            "FFFHFFFF\n",
            "FHHFFFHF\n",
            "FHFFHFHF\n",
            "FFFHFFFG\n"
          ]
        }
      ],
      "source": [
        "import gym\n",
        "env = gym.make(\"FrozenLake8x8-v0\")\n",
        "env.reset()\n",
        "env.render()"
      ]
    },
    {
      "cell_type": "markdown",
      "metadata": {
        "id": "tQzy-2Z7mZcT"
      },
      "source": [
        "The environment provides informations about its Action and State Spaces"
      ]
    },
    {
      "cell_type": "code",
      "execution_count": 2,
      "metadata": {
        "id": "5GVb6FUAmZcT",
        "outputId": "58a88c25-4b17-47e7-b5a8-e31b939a6c14",
        "colab": {
          "base_uri": "https://localhost:8080/"
        }
      },
      "outputs": [
        {
          "output_type": "stream",
          "name": "stdout",
          "text": [
            "Action Space Discrete(4)\n",
            "State Space Discrete(64)\n"
          ]
        }
      ],
      "source": [
        "print(f\"Action Space {env.action_space}\")\n",
        "print(f\"State Space {env.observation_space}\")"
      ]
    },
    {
      "cell_type": "markdown",
      "metadata": {
        "id": "uEN9t0pPmZcU"
      },
      "source": [
        "The environment is composed of 64 discrete states corresponding to the agent's position on the grid. \n",
        "The four possible actions are:"
      ]
    },
    {
      "cell_type": "code",
      "execution_count": 3,
      "metadata": {
        "id": "TChIiIN_mZcV",
        "outputId": "ea613bf3-b8d8-4cb7-9eb4-43965b2362ea",
        "colab": {
          "base_uri": "https://localhost:8080/"
        }
      },
      "outputs": [
        {
          "output_type": "stream",
          "name": "stdout",
          "text": [
            "action 0: ←\n",
            "action 1: ↓\n",
            "action 2: →\n",
            "action 3: ↑\n"
          ]
        }
      ],
      "source": [
        "action_map = {0:u'\\u2190', 1:u'\\u2193', 2:u'\\u2192', 3:u'\\u2191'}\n",
        "for k, v in action_map.items():\n",
        "    print(f\"action {k}: {v}\")"
      ]
    },
    {
      "cell_type": "markdown",
      "metadata": {
        "id": "2wwDhhggmZcW"
      },
      "source": [
        "Use the ```step``` and ```render``` methods to observe the effect of the actions on the environment"
      ]
    },
    {
      "cell_type": "code",
      "execution_count": 4,
      "metadata": {
        "id": "tnTJbkSYmZcX",
        "outputId": "e23f1b2e-0287-457f-85e2-a7648a685879",
        "colab": {
          "base_uri": "https://localhost:8080/"
        }
      },
      "outputs": [
        {
          "output_type": "stream",
          "name": "stdout",
          "text": [
            "  (Right)\n",
            "SFFFFFFF\n",
            "\u001b[41mF\u001b[0mFFFFFFF\n",
            "FFFHFFFF\n",
            "FFFFFHFF\n",
            "FFFHFFFF\n",
            "FHHFFFHF\n",
            "FHFFHFHF\n",
            "FFFHFFFG\n"
          ]
        }
      ],
      "source": [
        "env.step(3)\n",
        "env.step(2)\n",
        "env.step(2)\n",
        "env.render()"
      ]
    },
    {
      "cell_type": "markdown",
      "metadata": {
        "id": "2dUIuEUzmZcX"
      },
      "source": [
        "This function will help you to visualize our agent's trajectories:"
      ]
    },
    {
      "cell_type": "code",
      "execution_count": 5,
      "metadata": {
        "id": "DNUnmj97mZcY"
      },
      "outputs": [],
      "source": [
        "from IPython.display import clear_output\n",
        "from time import sleep\n",
        "\n",
        "def display_trajectory(frames):\n",
        "    for i, frame in enumerate(frames):\n",
        "        clear_output(wait=True)\n",
        "        print(frame['frame'])\n",
        "        print(f\"Timestep: {i + 1}\")\n",
        "        print(f\"State: {frame['state']}\")\n",
        "        print(f\"Reward: {frame['reward']}\")\n",
        "        sleep(.2)"
      ]
    },
    {
      "cell_type": "markdown",
      "metadata": {
        "id": "45xDnyfimZcY"
      },
      "source": [
        "# Random agent"
      ]
    },
    {
      "cell_type": "markdown",
      "metadata": {
        "id": "MRCy1X7QmZcZ"
      },
      "source": [
        "The following code shows you how to run an episode with an agent taking random actions."
      ]
    },
    {
      "cell_type": "code",
      "execution_count": 6,
      "metadata": {
        "id": "sooRKtXWmZcZ",
        "outputId": "5144b56e-7c39-4fb9-9b72-d68857641a67",
        "colab": {
          "base_uri": "https://localhost:8080/"
        }
      },
      "outputs": [
        {
          "output_type": "stream",
          "name": "stdout",
          "text": [
            "  (Down)\n",
            "SFFFFFFF\n",
            "FFFFFFFF\n",
            "FFF\u001b[41mH\u001b[0mFFFF\n",
            "FFFFFHFF\n",
            "FFFHFFFF\n",
            "FHHFFFHF\n",
            "FHFFHFHF\n",
            "FFFHFFFG\n",
            "\n",
            "Timestep: 21\n",
            "State: 19\n",
            "Reward: 0.0\n"
          ]
        }
      ],
      "source": [
        "frames = [] # for animation\n",
        "env.reset()\n",
        "while True:\n",
        "    # draw a random action from the action space\n",
        "    action = env.action_space.sample()\n",
        "    # the step method takes an action as input and returns 4 variables described in the OpenAI section\n",
        "    state, reward, done, info = env.step(action)\n",
        "    frames.append({\n",
        "        'frame': env.render(mode='ansi'),\n",
        "        'state': state,\n",
        "        'reward': reward\n",
        "        })\n",
        "    #if done is True then the episode is over\n",
        "    if done:\n",
        "        break\n",
        "        \n",
        "display_trajectory(frames)"
      ]
    },
    {
      "cell_type": "markdown",
      "metadata": {
        "id": "0xvRVdu7mZcZ"
      },
      "source": [
        "## Human policy "
      ]
    },
    {
      "cell_type": "code",
      "execution_count": 7,
      "metadata": {
        "id": "hP6oI1F2mZca",
        "outputId": "e0b08094-3069-448b-c98d-bc5523e2ebf9",
        "colab": {
          "base_uri": "https://localhost:8080/"
        }
      },
      "outputs": [
        {
          "output_type": "stream",
          "name": "stdout",
          "text": [
            "\n",
            "\u001b[41mS\u001b[0mFFFFFFF\n",
            "FFFFFFFF\n",
            "FFFHFFFF\n",
            "FFFFFHFF\n",
            "FFFHFFFF\n",
            "FHHFFFHF\n",
            "FHFFHFHF\n",
            "FFFHFFFG\n"
          ]
        }
      ],
      "source": [
        "env.reset()\n",
        "env.render()"
      ]
    },
    {
      "cell_type": "markdown",
      "metadata": {
        "id": "yqS28xYsmZca"
      },
      "source": [
        "We just saw a random policy. Let's now check on your policy.    \n",
        "Using the possible actions, try to reach the goal by running multiple times the next cell.  \n",
        "Reminder: action 0: ←\n",
        "action 1: ↓\n",
        "action 2: →\n",
        "action 3: ↑"
      ]
    },
    {
      "cell_type": "code",
      "execution_count": 8,
      "metadata": {
        "id": "cVNZtfphmZca",
        "outputId": "e2aeca57-908b-4ac1-bb30-e4f5aee13183",
        "colab": {
          "base_uri": "https://localhost:8080/"
        }
      },
      "outputs": [
        {
          "output_type": "stream",
          "name": "stdout",
          "text": [
            "  (Right)\n",
            "SFFFFFFF\n",
            "FF\u001b[41mF\u001b[0mFFFFF\n",
            "FFFHFFFF\n",
            "FFFFFHFF\n",
            "FFFHFFFF\n",
            "FHHFFFHF\n",
            "FHFFHFHF\n",
            "FFFHFFFG\n"
          ]
        }
      ],
      "source": [
        "env.reset()\n",
        "env.step(2)\n",
        "env.step(2)\n",
        "env.step(2)\n",
        "env.step(2)\n",
        "env.step(2)\n",
        "env.step(2)\n",
        "env.step(2)\n",
        "env.render()"
      ]
    },
    {
      "cell_type": "markdown",
      "metadata": {
        "id": "zvGjSgZfmZcb"
      },
      "source": [
        "There are a few probabilities that you achieved the desired goal.  \n",
        "This is due to the stochasticity of the environment.  \n",
        "This environment provides an entire description of its transition model:"
      ]
    },
    {
      "cell_type": "code",
      "execution_count": 9,
      "metadata": {
        "id": "WA4hbYvUmZcb",
        "outputId": "2ad1f088-a8e4-48c4-df46-7dac1d420dc0",
        "colab": {
          "base_uri": "https://localhost:8080/"
        }
      },
      "outputs": [
        {
          "output_type": "execute_result",
          "data": {
            "text/plain": [
              "{0: [(0.3333333333333333, 0, 0.0, False),\n",
              "  (0.3333333333333333, 0, 0.0, False),\n",
              "  (0.3333333333333333, 8, 0.0, False)],\n",
              " 1: [(0.3333333333333333, 0, 0.0, False),\n",
              "  (0.3333333333333333, 8, 0.0, False),\n",
              "  (0.3333333333333333, 1, 0.0, False)],\n",
              " 2: [(0.3333333333333333, 8, 0.0, False),\n",
              "  (0.3333333333333333, 1, 0.0, False),\n",
              "  (0.3333333333333333, 0, 0.0, False)],\n",
              " 3: [(0.3333333333333333, 1, 0.0, False),\n",
              "  (0.3333333333333333, 0, 0.0, False),\n",
              "  (0.3333333333333333, 0, 0.0, False)]}"
            ]
          },
          "metadata": {},
          "execution_count": 9
        }
      ],
      "source": [
        "state = 0\n",
        "env.env.P[state]"
      ]
    },
    {
      "cell_type": "markdown",
      "metadata": {
        "id": "Orz1vYZhmZcb"
      },
      "source": [
        "Here you can see the transitions probabilities for every possible action.\n",
        "For example, taking action 2 has:\n",
        "* 33% chances to lead to state 8\n",
        "* 33% chances to lead to state 1\n",
        "* 33% chances to lead to state 0\n",
        "\n",
        "Each line is composed as follow: (probability, next state, reward, end of episode)"
      ]
    },
    {
      "cell_type": "markdown",
      "metadata": {
        "id": "lgQm8p75mZcc"
      },
      "source": [
        "# Policy iteration"
      ]
    },
    {
      "cell_type": "markdown",
      "metadata": {
        "id": "CuHsda5bmZcc"
      },
      "source": [
        "Let's now try to solve the FrozenLake problem using the value policy algorithm.\n",
        "![](https://github.com/DavidBert/N7-techno-IA/blob/master/code/reinforcement_learning/images/policy_iter.png?raw=1)"
      ]
    },
    {
      "cell_type": "markdown",
      "metadata": {
        "id": "nhRhs0GymZcc"
      },
      "source": [
        "Fill the following code to implement the policy iteration algorithm:  \n",
        "(hint:  ```env.env.P[s][a]``` returns a list  \n",
        "$$[(p_1, s'_1, r_1, done)\\\\  \n",
        "...\\\\\n",
        "(p_n, s'_n, r_n, done)]$$\n",
        "Iterate on this list to compute $\\sum_{s',r}p(s',r|s,a)[r+\\gamma V(s')]$)"
      ]
    },
    {
      "cell_type": "code",
      "execution_count": 10,
      "metadata": {
        "id": "l0I8PFr5mZcd"
      },
      "outputs": [],
      "source": [
        "def compute_sum(env, V, s, a, gamma):\n",
        "    # V is a list containing the estimated value for every state\n",
        "    # len(V) = nb_states\n",
        "    total = 0  # state value for state s\n",
        "    for p, s_prime, r, _ in env.env.P[s][a]:\n",
        "        total = total + p * (r + gamma * V[s_prime])\n",
        "    return total"
      ]
    },
    {
      "cell_type": "code",
      "execution_count": 11,
      "metadata": {
        "id": "94782_SrmZcd"
      },
      "outputs": [],
      "source": [
        "import numpy as np \n",
        "\n",
        "def policy_iteration(env, gamma, theta):\n",
        "    nb_states = env.observation_space.n\n",
        "    nb_actions = env.action_space.n\n",
        "    # 1. Initialization\n",
        "    V = np.zeros(nb_states)\n",
        "    pi = np.zeros(nb_states)\n",
        "    \n",
        "    while True:\n",
        "    \n",
        "        # 2. Policy Evaluation\n",
        "        while True:\n",
        "            delta = 0\n",
        "            for s in range(nb_states) :\n",
        "              v = V[s]\n",
        "              V[s] = compute_sum(env, V, s, pi[s], gamma)\n",
        "              delta = max(delta, abs(v - V[s]))\n",
        "\n",
        "            if delta < theta : \n",
        "              break\n",
        "\n",
        "        # 3. Policy Improvement\n",
        "        policy_stable = True\n",
        "        for s in range(nb_states) :\n",
        "          old_action = pi[s]\n",
        "          pi[s] = np.argmax([compute_sum(env, V, s, a, gamma) for a in range(nb_actions)])\n",
        "\n",
        "          if old_action != pi[s] : \n",
        "            policy_stable = False\n",
        "\n",
        "        if policy_stable: \n",
        "          break\n",
        "\n",
        "    return V, pi"
      ]
    },
    {
      "cell_type": "markdown",
      "metadata": {
        "id": "ZdkVs9B6mZcd"
      },
      "source": [
        "Run your algorithm on FrozenLake (you may use $\\gamma=1$ and $\\theta=1e-8$)"
      ]
    },
    {
      "cell_type": "code",
      "execution_count": 12,
      "metadata": {
        "id": "UCd2QG7gmZce"
      },
      "outputs": [],
      "source": [
        "V, pi = policy_iteration(env, gamma=1, theta=1e-8)"
      ]
    },
    {
      "cell_type": "markdown",
      "metadata": {
        "id": "ZLxRbbKOmZce"
      },
      "source": [
        "Let's have a look at the computed values and policy"
      ]
    },
    {
      "cell_type": "code",
      "execution_count": 13,
      "metadata": {
        "id": "S6JKXwDNmZce",
        "outputId": "9ba3bffb-ed0a-4324-f118-55297b9ac091",
        "colab": {
          "base_uri": "https://localhost:8080/",
          "height": 408
        }
      },
      "outputs": [
        {
          "output_type": "stream",
          "name": "stdout",
          "text": [
            "[['↓' '→' '→' '↓' '→' '→' '→' '→']\n",
            " ['↑' '↑' '↑' '↑' '↑' '↑' '↑' '→']\n",
            " ['←' '←' '←' '←' '→' '↑' '↑' '→']\n",
            " ['←' '←' '←' '↓' '←' '←' '→' '→']\n",
            " ['←' '↑' '←' '←' '→' '↓' '↑' '→']\n",
            " ['←' '←' '←' '↓' '↑' '←' '←' '→']\n",
            " ['←' '←' '↓' '←' '←' '←' '←' '→']\n",
            " ['←' '↓' '←' '←' '↓' '→' '↓' '←']]\n"
          ]
        },
        {
          "output_type": "display_data",
          "data": {
            "text/plain": [
              "<Figure size 432x288 with 2 Axes>"
            ],
            "image/png": "[encoded data removed]"
          },
          "metadata": {
            "needs_background": "light"
          }
        }
      ],
      "source": [
        "import seaborn as sns\n",
        "sns.color_palette(\"YlOrBr\", as_cmap=True)\n",
        "sns.heatmap(V.reshape([8, -1]), cmap=\"coolwarm\", annot=True)\n",
        "policy = np.array([action_map[x] for x in pi]).reshape([-1, 8])\n",
        "print((policy))"
      ]
    },
    {
      "cell_type": "markdown",
      "metadata": {
        "id": "FG_6EwtfmZcj"
      },
      "source": [
        "You should see that the policy on state 55(tile (6,7)) and 62(tile (6,6)) appears different from the one we would expect.\n",
        "Using ```env.env.P[s]``` to check the environment's transitions, can you explain this behavior and why state 55 has a low value?"
      ]
    },
    {
      "cell_type": "code",
      "execution_count": 14,
      "metadata": {
        "id": "CdMlg5cCmZcj",
        "outputId": "a43a7439-ddc9-44bc-983c-d6f925723b98",
        "colab": {
          "base_uri": "https://localhost:8080/"
        }
      },
      "outputs": [
        {
          "output_type": "stream",
          "name": "stdout",
          "text": [
            "  (Right)\n",
            "SFFFFFFF\n",
            "FFFFFFFF\n",
            "FFFHFFFF\n",
            "FFFFFHFF\n",
            "FFFHFFFF\n",
            "FHHFFFHF\n",
            "FHFFHFHF\n",
            "FFFHFF\u001b[41mF\u001b[0mG\n"
          ]
        }
      ],
      "source": [
        "env.env.s = 62\n",
        "env.render()"
      ]
    },
    {
      "cell_type": "code",
      "execution_count": 15,
      "metadata": {
        "id": "WJZbRq34mZcj",
        "outputId": "fd2df451-72c4-4a85-915b-5db3a4b7a0fb",
        "colab": {
          "base_uri": "https://localhost:8080/"
        }
      },
      "outputs": [
        {
          "output_type": "execute_result",
          "data": {
            "text/plain": [
              "{0: [(0.3333333333333333, 47, 0.0, False),\n",
              "  (0.3333333333333333, 54, 0.0, True),\n",
              "  (0.3333333333333333, 63, 1.0, True)],\n",
              " 1: [(0.3333333333333333, 54, 0.0, True),\n",
              "  (0.3333333333333333, 63, 1.0, True),\n",
              "  (0.3333333333333333, 55, 0.0, False)],\n",
              " 2: [(0.3333333333333333, 63, 1.0, True),\n",
              "  (0.3333333333333333, 55, 0.0, False),\n",
              "  (0.3333333333333333, 47, 0.0, False)],\n",
              " 3: [(0.3333333333333333, 55, 0.0, False),\n",
              "  (0.3333333333333333, 47, 0.0, False),\n",
              "  (0.3333333333333333, 54, 0.0, True)]}"
            ]
          },
          "metadata": {},
          "execution_count": 15
        }
      ],
      "source": [
        "env.env.P[55]"
      ]
    },
    {
      "cell_type": "markdown",
      "metadata": {
        "id": "Rei5G5L1mZcj"
      },
      "source": [
        "# Value Iteration:"
      ]
    },
    {
      "cell_type": "markdown",
      "metadata": {
        "id": "t7_B9vsomZcj"
      },
      "source": [
        "Let's now try to solve the FrozenLake problem using the value iteration algorithm.\n",
        "![](https://github.com/DavidBert/N7-techno-IA/blob/master/code/reinforcement_learning/images/value_iteration.png?raw=1)"
      ]
    },
    {
      "cell_type": "markdown",
      "metadata": {
        "id": "FIwT_f79mZcj"
      },
      "source": [
        "Fill the following code to implement the value iteration algorithm:  "
      ]
    },
    {
      "cell_type": "code",
      "execution_count": 16,
      "metadata": {
        "id": "WGw95RB7mZcj"
      },
      "outputs": [],
      "source": [
        "def value_iteration(env, gamma, theta):\n",
        "    nb_states = env.observation_space.n\n",
        "    nb_actions = env.action_space.n\n",
        "    V = np.zeros(nb_states)\n",
        "    \n",
        "    while True:\n",
        "        delta = 0\n",
        "        for s in range(nb_states) :\n",
        "          v = V[s]\n",
        "          V[s] = max([compute_sum(env, V, s, a, gamma) for a in range(nb_actions)])\n",
        "          delta = max(delta, abs(v - V[s]))\n",
        "        \n",
        "        if delta < theta :\n",
        "          break \n",
        "    # Output a deterministic policy\n",
        "    pi = np.zeros(nb_states)\n",
        "    for s in range(nb_states):\n",
        "        pi[s] = np.argmax([compute_sum(env, V, s, a, gamma) for a in range(nb_actions)])\n",
        "        \n",
        "    return V, pi"
      ]
    },
    {
      "cell_type": "markdown",
      "metadata": {
        "id": "WDOWaE2mmZck"
      },
      "source": [
        "Run your algorithm on FrozenLake (you may use $\\gamma=1$ and $\\theta=1e-8$)"
      ]
    },
    {
      "cell_type": "code",
      "execution_count": 17,
      "metadata": {
        "id": "99GyLWJVmZck"
      },
      "outputs": [],
      "source": [
        "V, pi = value_iteration(env, gamma=1.0, theta=1e-8)"
      ]
    },
    {
      "cell_type": "markdown",
      "metadata": {
        "id": "eqbD6ZQOmZck"
      },
      "source": [
        "Let's have a look at the computed values and policy"
      ]
    },
    {
      "cell_type": "code",
      "execution_count": 18,
      "metadata": {
        "id": "7besIPPDmZck",
        "outputId": "35e3911a-7270-4d84-dd64-23a8d82d0338",
        "colab": {
          "base_uri": "https://localhost:8080/",
          "height": 404
        }
      },
      "outputs": [
        {
          "output_type": "stream",
          "name": "stdout",
          "text": [
            "[['↓' '→' '→' '→' '→' '→' '→' '→']\n",
            " ['↑' '↑' '↑' '↑' '↑' '↑' '↑' '→']\n",
            " ['←' '←' '←' '←' '→' '↑' '↑' '→']\n",
            " ['←' '←' '←' '↓' '←' '←' '→' '→']\n",
            " ['←' '↑' '←' '←' '→' '↓' '↑' '→']\n",
            " ['←' '←' '←' '↓' '↑' '←' '←' '→']\n",
            " ['←' '←' '↓' '←' '←' '←' '←' '→']\n",
            " ['←' '↓' '←' '←' '↓' '→' '↓' '←']]\n"
          ]
        },
        {
          "output_type": "display_data",
          "data": {
            "text/plain": [
              "<Figure size 432x288 with 2 Axes>"
            ],
            "image/png": "[encoded data removed]"
          },
          "metadata": {
            "needs_background": "light"
          }
        }
      ],
      "source": [
        "sns.color_palette(\"YlOrBr\", as_cmap=True)\n",
        "sns.heatmap(V.reshape([8, -1]), cmap=\"coolwarm\", annot=True)\n",
        "policy = np.array([action_map[x] for x in pi]).reshape([-1, 8])\n",
        "print((policy))"
      ]
    },
    {
      "cell_type": "markdown",
      "metadata": {
        "id": "G4sFwXkOmZcl"
      },
      "source": [
        "In this practical session, we trained agents to solve the FrozenLake environment without ever interacting with it.\n",
        "The Policy iteration and Value iteration algorithms are model-based algorithms. They can only be computed if we know the transitions probabilities used in the environment. This may not always be the case.\n",
        "In the following practical session, you will train an RL agent by interacting with the environment using a model-free algorithm."
      ]
    },
    {
      "cell_type": "code",
      "execution_count": 18,
      "metadata": {
        "id": "NyoQfUp3mZcl"
      },
      "outputs": [],
      "source": [
        ""
      ]
    }
  ],
  "metadata": {
    "kernelspec": {
      "display_name": "Python 3",
      "language": "python",
      "name": "python3"
    },
    "language_info": {
      "codemirror_mode": {
        "name": "ipython",
        "version": 3
      },
      "file_extension": ".py",
      "mimetype": "text/x-python",
      "name": "python",
      "nbconvert_exporter": "python",
      "pygments_lexer": "ipython3",
      "version": "3.6.12"
    },
    "colab": {
      "name": "frozen_lake.ipynb",
      "provenance": []
    }
  },
  "nbformat": 4,
  "nbformat_minor": 0
}