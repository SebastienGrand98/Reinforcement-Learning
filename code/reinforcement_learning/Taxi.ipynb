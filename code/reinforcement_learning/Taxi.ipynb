{
  "cells": [
    {
      "cell_type": "markdown",
      "metadata": {
        "id": "fRHvKzny0uEU"
      },
      "source": [
        "# Practical Session: Q-Learning"
      ]
    },
    {
      "cell_type": "markdown",
      "metadata": {
        "id": "45WKVaNv0uEW"
      },
      "source": [
        "In this practical session, you will implement the famous [Q-Learning](https://link.springer.com/content/pdf/10.1007/BF00992698.pdf) algorithm and test it in various environments."
      ]
    },
    {
      "cell_type": "markdown",
      "metadata": {
        "id": "ZBY-IqGn0uEY"
      },
      "source": [
        "## Taxi V3\n",
        "\n",
        "The taxi problem was first introduced in [Hierarchical Reinforcement Learning with the MAXQ Value Function Decomposition](https://arxiv.org/abs/cs/9905014).  \n",
        "In this environment, the agent controls a taxi whose job is to pick up a passenger at one location and drop him off in his target location.  \n",
        "Dropping of the passenger to its destination leads to a +20 reward.  \n",
        "To encourage the agent to be as fast as possible, it receives a deceptive reward of -1 at each step.  \n",
        "It will also receive a -10 penalty reward if it takes an illegal 'pick-up' or drop-off' action.  \n",
        "Let's instantiate a Taxi-V3 environment:"
      ]
    },
    {
      "cell_type": "code",
      "execution_count": 1,
      "metadata": {
        "id": "5hYJBID00uEZ",
        "outputId": "b76963df-b098-4e8d-ba6a-97a6be231c43",
        "colab": {
          "base_uri": "https://localhost:8080/"
        }
      },
      "outputs": [
        {
          "output_type": "stream",
          "name": "stdout",
          "text": [
            "+---------+\n",
            "|\u001b[35mR\u001b[0m: | : :\u001b[34;1mG\u001b[0m|\n",
            "| : | : : |\n",
            "| : :\u001b[43m \u001b[0m: : |\n",
            "| | : | : |\n",
            "|Y| : |B: |\n",
            "+---------+\n",
            "\n"
          ]
        }
      ],
      "source": [
        "import gym\n",
        "env = gym.make(\"Taxi-v3\")\n",
        "env.reset()\n",
        "env.render()"
      ]
    },
    {
      "cell_type": "markdown",
      "metadata": {
        "id": "ctQ0Y-2C0uEZ"
      },
      "source": [
        "The taxi is represented in <span style=\"color:yellow\">yellow</span> when empty and in <span style=\"color:green\">green</span> when full.  \n",
        "The passenger is represented in <span style=\"color:blue\">blue</span> and his destination in <span style=\"color:magenta\">magenta</span>."
      ]
    },
    {
      "cell_type": "markdown",
      "metadata": {
        "id": "Nplhky0Y0uEb"
      },
      "source": [
        "**Observations**: There are 500 discrete states since there are 25 taxi positions, five possible passenger locations (including the case when the passenger is in the taxi), and four destination locations."
      ]
    },
    {
      "cell_type": "code",
      "execution_count": 2,
      "metadata": {
        "id": "MMsH_AtP0uEb",
        "outputId": "4b2e5be3-90e7-464a-85ae-d6d5b6d25775",
        "colab": {
          "base_uri": "https://localhost:8080/"
        }
      },
      "outputs": [
        {
          "output_type": "stream",
          "name": "stdout",
          "text": [
            "State Space Discrete(500)\n"
          ]
        }
      ],
      "source": [
        "print(f\"State Space {env.observation_space}\")"
      ]
    },
    {
      "cell_type": "markdown",
      "metadata": {
        "id": "-T8no1NF0uEb"
      },
      "source": [
        "The agent controling the *taxi* has six discrete and deterministic possibles actions:  \n",
        "*  0: *move south*\n",
        "*  1: *move north*\n",
        "*  2: *move east*\n",
        "*  3: *move west*\n",
        "*  4: *pickup passenger*\n",
        "*  5: *drop off passenger*  "
      ]
    },
    {
      "cell_type": "code",
      "execution_count": 3,
      "metadata": {
        "id": "gmjhODht0uEc",
        "outputId": "d3912d93-8176-4fed-bada-a92879646a24",
        "colab": {
          "base_uri": "https://localhost:8080/"
        }
      },
      "outputs": [
        {
          "output_type": "stream",
          "name": "stdout",
          "text": [
            "Action Space Discrete(6)\n"
          ]
        }
      ],
      "source": [
        "print(f\"Action Space {env.action_space}\")"
      ]
    },
    {
      "cell_type": "markdown",
      "metadata": {
        "id": "19pTGPFy0uEg"
      },
      "source": [
        "Here is a little method to vizualize our taxi's trajectory:"
      ]
    },
    {
      "cell_type": "code",
      "execution_count": 4,
      "metadata": {
        "id": "37iD8TZz0uEh"
      },
      "outputs": [],
      "source": [
        "from IPython.display import clear_output\n",
        "from time import sleep\n",
        "\n",
        "def display_trajectory(frames):\n",
        "    for i, frame in enumerate(frames):\n",
        "        clear_output(wait=True)\n",
        "        print(frame['frame'])\n",
        "        print(f\"Timestep: {i + 1}\")\n",
        "        print(f\"State: {frame['state']}\")\n",
        "        print(f\"Reward: {frame['reward']}\")\n",
        "        sleep(.2)"
      ]
    },
    {
      "cell_type": "markdown",
      "metadata": {
        "id": "Iikkv-cn0uEh"
      },
      "source": [
        "# Random agent"
      ]
    },
    {
      "cell_type": "markdown",
      "metadata": {
        "id": "mwV_VoEz0uEh"
      },
      "source": [
        "The following code shows how to run an episode with an agent taking random actions."
      ]
    },
    {
      "cell_type": "code",
      "execution_count": 7,
      "metadata": {
        "id": "yEdfewxh0uEj",
        "outputId": "78baaa63-ee35-443a-e246-57a698ab1902",
        "colab": {
          "base_uri": "https://localhost:8080/"
        }
      },
      "outputs": [
        {
          "output_type": "stream",
          "name": "stdout",
          "text": [
            "+---------+\n",
            "|R: |\u001b[43m \u001b[0m: :G|\n",
            "| : | : : |\n",
            "| : : : : |\n",
            "| | : | : |\n",
            "|\u001b[35mY\u001b[0m| : |\u001b[34;1mB\u001b[0m: |\n",
            "+---------+\n",
            "  (West)\n",
            "\n",
            "Timestep: 200\n",
            "State: 54\n",
            "Reward: -1\n"
          ]
        }
      ],
      "source": [
        "frames = [] # for animation\n",
        "\n",
        "env.reset()\n",
        "while True:\n",
        "    # draw a random action from the action space\n",
        "    action = env.action_space.sample()\n",
        "    # the step method takes an action as input and returns 4 variables described in the OpenAI section\n",
        "    state, reward, done, info = env.step(action)\n",
        "    frames.append({\n",
        "        'frame': env.render(mode='ansi'),\n",
        "        'state': state,\n",
        "        'reward': reward\n",
        "        })\n",
        "    #if done is True then the episode is over\n",
        "    if done == True:\n",
        "        break\n",
        "        \n",
        "display_trajectory(frames)"
      ]
    },
    {
      "cell_type": "markdown",
      "metadata": {
        "id": "tthbYU810uEj"
      },
      "source": [
        "## Human policy "
      ]
    },
    {
      "cell_type": "code",
      "execution_count": 21,
      "metadata": {
        "id": "kIxpqTAM0uEj",
        "outputId": "0721a883-bb4b-4898-c322-28c0f9869d11",
        "colab": {
          "base_uri": "https://localhost:8080/"
        }
      },
      "outputs": [
        {
          "output_type": "stream",
          "name": "stdout",
          "text": [
            "+---------+\n",
            "|\u001b[35mR\u001b[0m: | : :G|\n",
            "| : | : : |\n",
            "| : : :\u001b[43m \u001b[0m: |\n",
            "| | : | : |\n",
            "|\u001b[34;1mY\u001b[0m| : |B: |\n",
            "+---------+\n",
            "\n"
          ]
        }
      ],
      "source": [
        "env.reset()\n",
        "env.render()"
      ]
    },
    {
      "cell_type": "markdown",
      "metadata": {
        "id": "oLA-sqdh0uEn"
      },
      "source": [
        "We just saw a random policy. Let's now check on your policy.  \n",
        "Using the possible actions, make a little script to take the client to his destination and visualize it with the `display_frames` method."
      ]
    },
    {
      "cell_type": "code",
      "execution_count": 22,
      "metadata": {
        "id": "ix_-0DkD0uEo",
        "outputId": "cda623d8-ca28-417e-93b6-45e4aca2d039",
        "colab": {
          "base_uri": "https://localhost:8080/"
        }
      },
      "outputs": [
        {
          "output_type": "stream",
          "name": "stdout",
          "text": [
            "+---------+\n",
            "|\u001b[35m\u001b[43mR\u001b[0m\u001b[0m: | : :G|\n",
            "| : | : : |\n",
            "| : : : : |\n",
            "| | : | : |\n",
            "|\u001b[34;1mY\u001b[0m| : |B: |\n",
            "+---------+\n",
            "  (Dropoff)\n",
            "\n",
            "Timestep: 13\n",
            "State: 8\n",
            "Reward: -10\n"
          ]
        }
      ],
      "source": [
        "frames = [] \n",
        "actions = [1,1,2,4,3,3,0,0,3,3,1,1,5]\n",
        "\n",
        "for a in actions:\n",
        "    state, reward, done, info = env.step(a)\n",
        "    frames.append({\n",
        "        'frame': env.render(mode='ansi'),\n",
        "        'state': state,\n",
        "        'reward': reward\n",
        "        })\n",
        "\n",
        "display_trajectory(frames)"
      ]
    },
    {
      "cell_type": "markdown",
      "metadata": {
        "id": "OlXrScj80uEp"
      },
      "source": [
        "# Q-learning\n",
        "Let's now try to solve the TaxiV3 problem using the Q-learing algorithm.\n",
        "![](https://github.com/DavidBert/N7-techno-IA/blob/master/code/reinforcement_learning/images/q-learning.png?raw=1)"
      ]
    },
    {
      "cell_type": "markdown",
      "metadata": {
        "id": "DupJU8dJ0uEp"
      },
      "source": [
        "Fill the `q_learning` method."
      ]
    },
    {
      "cell_type": "code",
      "execution_count": 34,
      "metadata": {
        "id": "BvzCja8M0uEp"
      },
      "outputs": [],
      "source": [
        "import random\n",
        "import matplotlib.pyplot as plt\n",
        "import numpy as np\n",
        "import pandas as pd \n",
        "import seaborn as sns\n",
        "\n",
        "def print_running_mean(training_rewards, i):\n",
        "    clear_output(wait=True)\n",
        "    plt.figure(figsize=(15,3))\n",
        "    plt.plot(pd.Series(training_rewards[:i]).rolling(100).mean())\n",
        "    plt.title(\"Rewards running mean on last 100 episodes\")\n",
        "    plt.show()\n",
        "\n",
        "    \n",
        "def q_learning(env, alpha, gamma, epsilon, nb_episodes):\n",
        "    nb_states = env.observation_space.n\n",
        "    nb_actions = env.action_space.n\n",
        "    q_table = np.zeros([nb_states, nb_actions])\n",
        "    training_rewards = np.zeros(nb_episodes)\n",
        "    for i in range(nb_episodes):\n",
        "        s = env.reset()\n",
        "\n",
        "        while True:\n",
        "          a = np.argmax(q_table[s, :])\n",
        "          s_prime, reward, done, _ = env.step(a)\n",
        "\n",
        "          q_table[s, a] = q_table[s, a] + alpha * (reward + gamma * np.max(q_table[s_prime, :]) - q_table[s, a])\n",
        "          s = s_prime\n",
        "\n",
        "          training_rewards[i] += reward\n",
        "          if done:\n",
        "              break\n",
        "\n",
        "        if i % 100 == 0:\n",
        "            print_running_mean(training_rewards, i)\n",
        "\n",
        "    return q_table"
      ]
    },
    {
      "cell_type": "markdown",
      "metadata": {
        "id": "apU9ASiq0uEq"
      },
      "source": [
        "Train your q-table."
      ]
    },
    {
      "cell_type": "code",
      "execution_count": 35,
      "metadata": {
        "id": "qQ-cXiWR0uEq",
        "outputId": "187883bc-1651-4a88-fae5-c07a93f41f5b",
        "colab": {
          "base_uri": "https://localhost:8080/",
          "height": 227
        }
      },
      "outputs": [
        {
          "output_type": "display_data",
          "data": {
            "text/plain": [
              "<Figure size 1080x216 with 1 Axes>"
            ],
            "image/png": "[encoded data removed]"
          },
          "metadata": {
            "needs_background": "light"
          }
        }
      ],
      "source": [
        "nb_episodes = 5000\n",
        "alpha = 0.1\n",
        "gamma = 0.99\n",
        "epsilon = 0.1\n",
        "\n",
        "q_table = q_learning(env, alpha, gamma, epsilon, nb_episodes)"
      ]
    },
    {
      "cell_type": "markdown",
      "metadata": {
        "id": "CQE6igQq0uEq"
      },
      "source": [
        "Let us have a look at the learned policy."
      ]
    },
    {
      "cell_type": "code",
      "execution_count": 37,
      "metadata": {
        "id": "MxbW8fo60uEr",
        "outputId": "59c26b62-9eca-43d4-b69f-76a780504d28",
        "colab": {
          "base_uri": "https://localhost:8080/",
          "height": 383
        }
      },
      "outputs": [
        {
          "output_type": "error",
          "ename": "KeyboardInterrupt",
          "evalue": "ignored",
          "traceback": [
            "\u001b[0;31m---------------------------------------------------------------------------\u001b[0m",
            "\u001b[0;31mKeyboardInterrupt\u001b[0m                         Traceback (most recent call last)",
            "\u001b[0;32m<ipython-input-37-65401901155a>\u001b[0m in \u001b[0;36m<module>\u001b[0;34m()\u001b[0m\n\u001b[1;32m      6\u001b[0m   \u001b[0mstate\u001b[0m\u001b[0;34m,\u001b[0m \u001b[0mreward\u001b[0m\u001b[0;34m,\u001b[0m \u001b[0mdone\u001b[0m\u001b[0;34m,\u001b[0m \u001b[0minfo\u001b[0m \u001b[0;34m=\u001b[0m \u001b[0menv\u001b[0m\u001b[0;34m.\u001b[0m\u001b[0mstep\u001b[0m\u001b[0;34m(\u001b[0m\u001b[0ma\u001b[0m\u001b[0;34m)\u001b[0m\u001b[0;34m\u001b[0m\u001b[0;34m\u001b[0m\u001b[0m\n\u001b[1;32m      7\u001b[0m   frames.append({\n\u001b[0;32m----> 8\u001b[0;31m     \u001b[0;34m'frame'\u001b[0m\u001b[0;34m:\u001b[0m \u001b[0menv\u001b[0m\u001b[0;34m.\u001b[0m\u001b[0mrender\u001b[0m\u001b[0;34m(\u001b[0m\u001b[0mmode\u001b[0m\u001b[0;34m=\u001b[0m\u001b[0;34m'ansi'\u001b[0m\u001b[0;34m)\u001b[0m\u001b[0;34m,\u001b[0m\u001b[0;34m\u001b[0m\u001b[0;34m\u001b[0m\u001b[0m\n\u001b[0m\u001b[1;32m      9\u001b[0m     \u001b[0;34m'state'\u001b[0m\u001b[0;34m:\u001b[0m \u001b[0mstate\u001b[0m\u001b[0;34m,\u001b[0m\u001b[0;34m\u001b[0m\u001b[0;34m\u001b[0m\u001b[0m\n\u001b[1;32m     10\u001b[0m     \u001b[0;34m'reward'\u001b[0m\u001b[0;34m:\u001b[0m \u001b[0mreward\u001b[0m\u001b[0;34m\u001b[0m\u001b[0;34m\u001b[0m\u001b[0m\n",
            "\u001b[0;32m/usr/local/lib/python3.7/dist-packages/gym/core.py\u001b[0m in \u001b[0;36mrender\u001b[0;34m(self, mode, **kwargs)\u001b[0m\n\u001b[1;32m    238\u001b[0m \u001b[0;34m\u001b[0m\u001b[0m\n\u001b[1;32m    239\u001b[0m     \u001b[0;32mdef\u001b[0m \u001b[0mrender\u001b[0m\u001b[0;34m(\u001b[0m\u001b[0mself\u001b[0m\u001b[0;34m,\u001b[0m \u001b[0mmode\u001b[0m\u001b[0;34m=\u001b[0m\u001b[0;34m'human'\u001b[0m\u001b[0;34m,\u001b[0m \u001b[0;34m**\u001b[0m\u001b[0mkwargs\u001b[0m\u001b[0;34m)\u001b[0m\u001b[0;34m:\u001b[0m\u001b[0;34m\u001b[0m\u001b[0;34m\u001b[0m\u001b[0m\n\u001b[0;32m--> 240\u001b[0;31m         \u001b[0;32mreturn\u001b[0m \u001b[0mself\u001b[0m\u001b[0;34m.\u001b[0m\u001b[0menv\u001b[0m\u001b[0;34m.\u001b[0m\u001b[0mrender\u001b[0m\u001b[0;34m(\u001b[0m\u001b[0mmode\u001b[0m\u001b[0;34m,\u001b[0m \u001b[0;34m**\u001b[0m\u001b[0mkwargs\u001b[0m\u001b[0;34m)\u001b[0m\u001b[0;34m\u001b[0m\u001b[0;34m\u001b[0m\u001b[0m\n\u001b[0m\u001b[1;32m    241\u001b[0m \u001b[0;34m\u001b[0m\u001b[0m\n\u001b[1;32m    242\u001b[0m     \u001b[0;32mdef\u001b[0m \u001b[0mclose\u001b[0m\u001b[0;34m(\u001b[0m\u001b[0mself\u001b[0m\u001b[0;34m)\u001b[0m\u001b[0;34m:\u001b[0m\u001b[0;34m\u001b[0m\u001b[0;34m\u001b[0m\u001b[0m\n",
            "\u001b[0;32m/usr/local/lib/python3.7/dist-packages/gym/envs/toy_text/taxi.py\u001b[0m in \u001b[0;36mrender\u001b[0;34m(self, mode)\u001b[0m\n\u001b[1;32m    154\u001b[0m         \u001b[0moutfile\u001b[0m \u001b[0;34m=\u001b[0m \u001b[0mStringIO\u001b[0m\u001b[0;34m(\u001b[0m\u001b[0;34m)\u001b[0m \u001b[0;32mif\u001b[0m \u001b[0mmode\u001b[0m \u001b[0;34m==\u001b[0m \u001b[0;34m'ansi'\u001b[0m \u001b[0;32melse\u001b[0m \u001b[0msys\u001b[0m\u001b[0;34m.\u001b[0m\u001b[0mstdout\u001b[0m\u001b[0;34m\u001b[0m\u001b[0;34m\u001b[0m\u001b[0m\n\u001b[1;32m    155\u001b[0m \u001b[0;34m\u001b[0m\u001b[0m\n\u001b[0;32m--> 156\u001b[0;31m         \u001b[0mout\u001b[0m \u001b[0;34m=\u001b[0m \u001b[0mself\u001b[0m\u001b[0;34m.\u001b[0m\u001b[0mdesc\u001b[0m\u001b[0;34m.\u001b[0m\u001b[0mcopy\u001b[0m\u001b[0;34m(\u001b[0m\u001b[0;34m)\u001b[0m\u001b[0;34m.\u001b[0m\u001b[0mtolist\u001b[0m\u001b[0;34m(\u001b[0m\u001b[0;34m)\u001b[0m\u001b[0;34m\u001b[0m\u001b[0;34m\u001b[0m\u001b[0m\n\u001b[0m\u001b[1;32m    157\u001b[0m         \u001b[0mout\u001b[0m \u001b[0;34m=\u001b[0m \u001b[0;34m[\u001b[0m\u001b[0;34m[\u001b[0m\u001b[0mc\u001b[0m\u001b[0;34m.\u001b[0m\u001b[0mdecode\u001b[0m\u001b[0;34m(\u001b[0m\u001b[0;34m'utf-8'\u001b[0m\u001b[0;34m)\u001b[0m \u001b[0;32mfor\u001b[0m \u001b[0mc\u001b[0m \u001b[0;32min\u001b[0m \u001b[0mline\u001b[0m\u001b[0;34m]\u001b[0m \u001b[0;32mfor\u001b[0m \u001b[0mline\u001b[0m \u001b[0;32min\u001b[0m \u001b[0mout\u001b[0m\u001b[0;34m]\u001b[0m\u001b[0;34m\u001b[0m\u001b[0;34m\u001b[0m\u001b[0m\n\u001b[1;32m    158\u001b[0m         \u001b[0mtaxi_row\u001b[0m\u001b[0;34m,\u001b[0m \u001b[0mtaxi_col\u001b[0m\u001b[0;34m,\u001b[0m \u001b[0mpass_idx\u001b[0m\u001b[0;34m,\u001b[0m \u001b[0mdest_idx\u001b[0m \u001b[0;34m=\u001b[0m \u001b[0mself\u001b[0m\u001b[0;34m.\u001b[0m\u001b[0mdecode\u001b[0m\u001b[0;34m(\u001b[0m\u001b[0mself\u001b[0m\u001b[0;34m.\u001b[0m\u001b[0ms\u001b[0m\u001b[0;34m)\u001b[0m\u001b[0;34m\u001b[0m\u001b[0;34m\u001b[0m\u001b[0m\n",
            "\u001b[0;31mKeyboardInterrupt\u001b[0m: "
          ]
        }
      ],
      "source": [
        "env.reset()\n",
        "frames = [] # for animation\n",
        "timesteps = 0\n",
        "while True:\n",
        "  A = np.argmax(q_table[s, a] for )\n",
        "  state, reward, done, info = env.step(A)\n",
        "  frames.append({\n",
        "    'frame': env.render(mode='ansi'),\n",
        "    'state': state,\n",
        "    'reward': reward\n",
        "    })\n",
        "        \n",
        "display_trajectory(frames)"
      ]
    },
    {
      "cell_type": "markdown",
      "metadata": {
        "id": "TDpIHIus0uEr"
      },
      "source": [
        "# Frozen lake\n",
        "Now, try your algoithm on frozen lake."
      ]
    },
    {
      "cell_type": "code",
      "execution_count": null,
      "metadata": {
        "id": "7VsH-zAC0uEr"
      },
      "outputs": [],
      "source": [
        "import gym\n",
        "env = gym.make(\"FrozenLake8x8-v0\")\n",
        "env.render()"
      ]
    },
    {
      "cell_type": "code",
      "execution_count": null,
      "metadata": {
        "id": "aUBrAsMu0uEs"
      },
      "outputs": [],
      "source": [
        "nb_episodes = 20000\n",
        "alpha = 0.1\n",
        "gamma = 0.99\n",
        "epsilon = 0.1\n",
        "\n",
        "q_table = ..."
      ]
    },
    {
      "cell_type": "markdown",
      "metadata": {
        "id": "lv6em7-G0uEs"
      },
      "source": [
        "Your agent has probably not reached a satisfying policy.  \n",
        "This is due to the lack of exploration induced by the $\\epsilon$-greedy policy.\n",
        "Fixing $\\epsilon$ to 0.1 is not sufficient in Frozen Lake. The agent does not explore enougth and thus never receives a positive feedback.  \n",
        "A simple solution would be to use a decaying epsilon from 1 to 0.1."
      ]
    },
    {
      "cell_type": "code",
      "execution_count": null,
      "metadata": {
        "id": "S8oxHiDy0uEs"
      },
      "outputs": [],
      "source": [
        "decay_rates = [0.9, 0.99, 0.9995, 0.9999]\n",
        "eps_min = 0.1\n",
        "plt.figure(figsize=(10,6))\n",
        "\n",
        "for decay_rate in decay_rates:\n",
        "    eps_list = []\n",
        "    test_eps = 1\n",
        "    for _ in range(nb_episodes):\n",
        "        test_eps = max(test_eps * decay_rate, eps_min)\n",
        "        eps_list.append(test_eps)          \n",
        "    \n",
        "    plt.plot(eps_list, label='decay rate: {}'.format(decay_rate))\n",
        "\n",
        "plt.title('Effect of various decay rates')\n",
        "plt.legend(loc='best')\n",
        "plt.xlabel('# of episodes')\n",
        "plt.ylabel('epsilon')\n",
        "plt.show()"
      ]
    },
    {
      "cell_type": "markdown",
      "metadata": {
        "id": "PWin82po0uEt"
      },
      "source": [
        "Modify your `q_learning` function to decay the learning rate after each episode (don't forget to clip so it does not go below 0.1).\n",
        "Try your function with different values for `epsilon_decay`"
      ]
    },
    {
      "cell_type": "code",
      "execution_count": null,
      "metadata": {
        "id": "7pFaW5Mu0uEt"
      },
      "outputs": [],
      "source": [
        "def q_learning(env, alpha, gamma, epsilon_decay, nb_episodes):\n",
        "    epsilon = 1\n",
        "    min_epsilon = 0.1\n",
        "    nb_states = env.observation_space.n\n",
        "    nb_actions = env.action_space.n\n",
        "    q_table = np.zeros([nb_states, nb_actions])\n",
        "    training_rewards = np.zeros(nb_episodes)\n",
        "    for i in range(nb_episodes):\n",
        "        ...\n",
        "        ...\n",
        "        ...\n",
        "        if i % 100 == 0:\n",
        "            print_running_mean(training_rewards, i)\n",
        "            \n",
        "    return q_table"
      ]
    },
    {
      "cell_type": "code",
      "execution_count": null,
      "metadata": {
        "id": "bZldeDW30uEt"
      },
      "outputs": [],
      "source": [
        "nb_episodes = 20000\n",
        "alpha = 0.1\n",
        "gamma = 0.99\n",
        "epsilon_decay = 0.9999\n",
        "\n",
        "q_table = q_learning(env, alpha, gamma, epsilon_decay, nb_episodes)"
      ]
    },
    {
      "cell_type": "markdown",
      "metadata": {
        "id": "cLzoGfcP0uEt"
      },
      "source": [
        "Let us have a look at the learned policy."
      ]
    },
    {
      "cell_type": "code",
      "execution_count": null,
      "metadata": {
        "id": "AV2ZvSsC0uEu"
      },
      "outputs": [],
      "source": [
        "env.reset()\n",
        "frames = [] # for animation\n",
        "timesteps = 0\n",
        "state = env.reset()\n",
        "while True:\n",
        "    ...\n",
        "        \n",
        "display_trajectory(frames)"
      ]
    },
    {
      "cell_type": "markdown",
      "metadata": {
        "id": "fvZqoAr_0uEu"
      },
      "source": [
        "In these two environments, the State-space was discrete and small enough to learn the entire Q-table.\n",
        "In most cases, this State space is way too large to learn the Q-values for each state.  \n",
        "One solution is to learn an estimator of this Q-function.\n",
        "In the following practical session, you will adapt the Q-learning algorithm to uses neural networks as function approximators."
      ]
    },
    {
      "cell_type": "code",
      "execution_count": null,
      "metadata": {
        "id": "ZHueCc040uEu"
      },
      "outputs": [],
      "source": [
        ""
      ]
    }
  ],
  "metadata": {
    "kernelspec": {
      "display_name": "Python 3",
      "language": "python",
      "name": "python3"
    },
    "language_info": {
      "codemirror_mode": {
        "name": "ipython",
        "version": 3
      },
      "file_extension": ".py",
      "mimetype": "text/x-python",
      "name": "python",
      "nbconvert_exporter": "python",
      "pygments_lexer": "ipython3",
      "version": "3.6.12"
    },
    "colab": {
      "name": "Taxi.ipynb",
      "provenance": []
    }
  },
  "nbformat": 4,
  "nbformat_minor": 0
}