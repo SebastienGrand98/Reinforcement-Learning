{
  "cells": [
    {
      "cell_type": "markdown",
      "metadata": {
        "id": "view-in-github",
        "colab_type": "text"
      },
      "source": [
        "<a href=\"https://colab.research.google.com/github/SebastienGrand98/Reinforcement-Learning/blob/main/code/reinforcement_learning/Taxi.ipynb\" target=\"_parent\"><img src=\"https://colab.research.google.com/assets/colab-badge.svg\" alt=\"Open In Colab\"/></a>"
      ]
    },
    {
      "cell_type": "markdown",
      "metadata": {
        "id": "fRHvKzny0uEU"
      },
      "source": [
        "# Practical Session: Q-Learning"
      ]
    },
    {
      "cell_type": "markdown",
      "metadata": {
        "id": "45WKVaNv0uEW"
      },
      "source": [
        "In this practical session, you will implement the famous [Q-Learning](https://link.springer.com/content/pdf/10.1007/BF00992698.pdf) algorithm and test it in various environments."
      ]
    },
    {
      "cell_type": "markdown",
      "metadata": {
        "id": "ZBY-IqGn0uEY"
      },
      "source": [
        "## Taxi V3\n",
        "\n",
        "The taxi problem was first introduced in [Hierarchical Reinforcement Learning with the MAXQ Value Function Decomposition](https://arxiv.org/abs/cs/9905014).  \n",
        "In this environment, the agent controls a taxi whose job is to pick up a passenger at one location and drop him off in his target location.  \n",
        "Dropping of the passenger to its destination leads to a +20 reward.  \n",
        "To encourage the agent to be as fast as possible, it receives a deceptive reward of -1 at each step.  \n",
        "It will also receive a -10 penalty reward if it takes an illegal 'pick-up' or drop-off' action.  \n",
        "Let's instantiate a Taxi-V3 environment:"
      ]
    },
    {
      "cell_type": "code",
      "execution_count": 1,
      "metadata": {
        "colab": {
          "base_uri": "https://localhost:8080/"
        },
        "id": "5hYJBID00uEZ",
        "outputId": "8819347c-094b-41fd-aace-a6515fccd59a"
      },
      "outputs": [
        {
          "output_type": "stream",
          "name": "stdout",
          "text": [
            "+---------+\n",
            "|R:\u001b[43m \u001b[0m| : :\u001b[34;1mG\u001b[0m|\n",
            "| : | : : |\n",
            "| : : : : |\n",
            "| | : | : |\n",
            "|Y| : |\u001b[35mB\u001b[0m: |\n",
            "+---------+\n",
            "\n"
          ]
        }
      ],
      "source": [
        "import gym\n",
        "env = gym.make(\"Taxi-v3\")\n",
        "env.reset()\n",
        "env.render()"
      ]
    },
    {
      "cell_type": "markdown",
      "metadata": {
        "id": "ctQ0Y-2C0uEZ"
      },
      "source": [
        "The taxi is represented in <span style=\"color:yellow\">yellow</span> when empty and in <span style=\"color:green\">green</span> when full.  \n",
        "The passenger is represented in <span style=\"color:blue\">blue</span> and his destination in <span style=\"color:magenta\">magenta</span>."
      ]
    },
    {
      "cell_type": "markdown",
      "metadata": {
        "id": "Nplhky0Y0uEb"
      },
      "source": [
        "**Observations**: There are 500 discrete states since there are 25 taxi positions, five possible passenger locations (including the case when the passenger is in the taxi), and four destination locations."
      ]
    },
    {
      "cell_type": "code",
      "execution_count": 2,
      "metadata": {
        "colab": {
          "base_uri": "https://localhost:8080/"
        },
        "id": "MMsH_AtP0uEb",
        "outputId": "e298a8d0-65c6-4d0d-d9d3-3a3474e390aa"
      },
      "outputs": [
        {
          "output_type": "stream",
          "name": "stdout",
          "text": [
            "State Space Discrete(500)\n"
          ]
        }
      ],
      "source": [
        "print(f\"State Space {env.observation_space}\")"
      ]
    },
    {
      "cell_type": "markdown",
      "metadata": {
        "id": "-T8no1NF0uEb"
      },
      "source": [
        "The agent controling the *taxi* has six discrete and deterministic possibles actions:  \n",
        "*  0: *move south*\n",
        "*  1: *move north*\n",
        "*  2: *move east*\n",
        "*  3: *move west*\n",
        "*  4: *pickup passenger*\n",
        "*  5: *drop off passenger*  "
      ]
    },
    {
      "cell_type": "code",
      "execution_count": 3,
      "metadata": {
        "colab": {
          "base_uri": "https://localhost:8080/"
        },
        "id": "gmjhODht0uEc",
        "outputId": "a82b3907-fe0f-499d-8897-d43eebac8637"
      },
      "outputs": [
        {
          "output_type": "stream",
          "name": "stdout",
          "text": [
            "Action Space Discrete(6)\n"
          ]
        }
      ],
      "source": [
        "print(f\"Action Space {env.action_space}\")"
      ]
    },
    {
      "cell_type": "markdown",
      "metadata": {
        "id": "19pTGPFy0uEg"
      },
      "source": [
        "Here is a little method to vizualize our taxi's trajectory:"
      ]
    },
    {
      "cell_type": "code",
      "execution_count": 4,
      "metadata": {
        "id": "37iD8TZz0uEh"
      },
      "outputs": [],
      "source": [
        "from IPython.display import clear_output\n",
        "from time import sleep\n",
        "\n",
        "def display_trajectory(frames):\n",
        "    for i, frame in enumerate(frames):\n",
        "        clear_output(wait=True)\n",
        "        print(frame['frame'])\n",
        "        print(f\"Timestep: {i + 1}\")\n",
        "        print(f\"State: {frame['state']}\")\n",
        "        print(f\"Reward: {frame['reward']}\")\n",
        "        sleep(.2)"
      ]
    },
    {
      "cell_type": "markdown",
      "metadata": {
        "id": "Iikkv-cn0uEh"
      },
      "source": [
        "# Random agent"
      ]
    },
    {
      "cell_type": "markdown",
      "metadata": {
        "id": "mwV_VoEz0uEh"
      },
      "source": [
        "The following code shows how to run an episode with an agent taking random actions."
      ]
    },
    {
      "cell_type": "code",
      "execution_count": 5,
      "metadata": {
        "colab": {
          "base_uri": "https://localhost:8080/"
        },
        "id": "yEdfewxh0uEj",
        "outputId": "b026a743-28dd-416d-af18-fd28af2df4d7"
      },
      "outputs": [
        {
          "output_type": "stream",
          "name": "stdout",
          "text": [
            "+---------+\n",
            "|\u001b[35mR\u001b[0m: |\u001b[42m_\u001b[0m: :G|\n",
            "| : | : : |\n",
            "| : : : : |\n",
            "| | : | : |\n",
            "|Y| : |B: |\n",
            "+---------+\n",
            "  (North)\n",
            "\n",
            "Timestep: 200\n",
            "State: 56\n",
            "Reward: -1\n"
          ]
        }
      ],
      "source": [
        "frames = [] # for animation\n",
        "\n",
        "env.reset()\n",
        "while True:\n",
        "    # draw a random action from the action space\n",
        "    action = env.action_space.sample()\n",
        "    # the step method takes an action as input and returns 4 variables described in the OpenAI section\n",
        "    state, reward, done, info = env.step(action)\n",
        "    frames.append({\n",
        "        'frame': env.render(mode='ansi'),\n",
        "        'state': state,\n",
        "        'reward': reward\n",
        "        })\n",
        "    #if done is True then the episode is over\n",
        "    if done == True:\n",
        "        break\n",
        "        \n",
        "display_trajectory(frames)"
      ]
    },
    {
      "cell_type": "markdown",
      "metadata": {
        "id": "tthbYU810uEj"
      },
      "source": [
        "## Human policy "
      ]
    },
    {
      "cell_type": "code",
      "execution_count": 6,
      "metadata": {
        "colab": {
          "base_uri": "https://localhost:8080/"
        },
        "id": "kIxpqTAM0uEj",
        "outputId": "09268236-618b-4ef3-8f91-9d83db24ecc1"
      },
      "outputs": [
        {
          "output_type": "stream",
          "name": "stdout",
          "text": [
            "+---------+\n",
            "|R: | : :\u001b[35mG\u001b[0m|\n",
            "|\u001b[43m \u001b[0m: | : : |\n",
            "| : : : : |\n",
            "| | : | : |\n",
            "|Y| : |\u001b[34;1mB\u001b[0m: |\n",
            "+---------+\n",
            "\n"
          ]
        }
      ],
      "source": [
        "env.reset()\n",
        "env.render()"
      ]
    },
    {
      "cell_type": "markdown",
      "metadata": {
        "id": "oLA-sqdh0uEn"
      },
      "source": [
        "We just saw a random policy. Let's now check on your policy.  \n",
        "Using the possible actions, make a little script to take the client to his destination and visualize it with the `display_frames` method."
      ]
    },
    {
      "cell_type": "code",
      "execution_count": 7,
      "metadata": {
        "colab": {
          "base_uri": "https://localhost:8080/"
        },
        "id": "ix_-0DkD0uEo",
        "outputId": "d5e86b05-049b-401a-83c1-eb8fa2137205"
      },
      "outputs": [
        {
          "output_type": "stream",
          "name": "stdout",
          "text": [
            "+---------+\n",
            "|\u001b[43mR\u001b[0m: | : :\u001b[35mG\u001b[0m|\n",
            "| : | : : |\n",
            "| : : : : |\n",
            "| | : | : |\n",
            "|Y| : |\u001b[34;1mB\u001b[0m: |\n",
            "+---------+\n",
            "  (Dropoff)\n",
            "\n",
            "Timestep: 13\n",
            "State: 13\n",
            "Reward: -10\n"
          ]
        }
      ],
      "source": [
        "frames = [] \n",
        "actions = [1,1,2,4,3,3,0,0,3,3,1,1,5]\n",
        "\n",
        "for a in actions:\n",
        "    state, reward, done, info = env.step(a)\n",
        "    frames.append({\n",
        "        'frame': env.render(mode='ansi'),\n",
        "        'state': state,\n",
        "        'reward': reward\n",
        "        })\n",
        "\n",
        "display_trajectory(frames)"
      ]
    },
    {
      "cell_type": "markdown",
      "metadata": {
        "id": "OlXrScj80uEp"
      },
      "source": [
        "# Q-learning\n",
        "Let's now try to solve the TaxiV3 problem using the Q-learing algorithm.\n",
        "![](https://github.com/DavidBert/N7-techno-IA/blob/master/code/reinforcement_learning/images/q-learning.png?raw=1)"
      ]
    },
    {
      "cell_type": "markdown",
      "metadata": {
        "id": "DupJU8dJ0uEp"
      },
      "source": [
        "Fill the `q_learning` method."
      ]
    },
    {
      "cell_type": "code",
      "execution_count": 8,
      "metadata": {
        "id": "BvzCja8M0uEp"
      },
      "outputs": [],
      "source": [
        "import random\n",
        "import matplotlib.pyplot as plt\n",
        "import numpy as np\n",
        "import pandas as pd \n",
        "import seaborn as sns\n",
        "\n",
        "def print_running_mean(training_rewards, i):\n",
        "    clear_output(wait=True)\n",
        "    plt.figure(figsize=(15,3))\n",
        "    plt.plot(pd.Series(training_rewards[:i]).rolling(100).mean())\n",
        "    plt.title(\"Rewards running mean on last 100 episodes\")\n",
        "    plt.show()\n",
        "\n",
        "    \n",
        "def q_learning(env, alpha, gamma, epsilon, nb_episodes):\n",
        "    nb_states = env.observation_space.n\n",
        "    nb_actions = env.action_space.n\n",
        "    q_table = np.zeros([nb_states, nb_actions])\n",
        "    training_rewards = np.zeros(nb_episodes)\n",
        "    for i in range(nb_episodes):\n",
        "        s = env.reset()\n",
        "\n",
        "        while True:\n",
        "          a = np.argmax(q_table[s, :])\n",
        "          s_prime, reward, done, _ = env.step(a)\n",
        "\n",
        "          q_table[s, a] = q_table[s, a] + alpha * (reward + gamma * np.max(q_table[s_prime, :]) - q_table[s, a])\n",
        "          s = s_prime\n",
        "\n",
        "          training_rewards[i] += reward\n",
        "          if done:\n",
        "              break\n",
        "\n",
        "        if i % 100 == 0:\n",
        "            print_running_mean(training_rewards, i)\n",
        "\n",
        "    return q_table"
      ]
    },
    {
      "cell_type": "markdown",
      "metadata": {
        "id": "apU9ASiq0uEq"
      },
      "source": [
        "Train your q-table."
      ]
    },
    {
      "cell_type": "code",
      "execution_count": 9,
      "metadata": {
        "colab": {
          "base_uri": "https://localhost:8080/",
          "height": 227
        },
        "id": "qQ-cXiWR0uEq",
        "outputId": "b9483bee-40e3-4c2a-bd98-ea1d3044caf9"
      },
      "outputs": [
        {
          "output_type": "display_data",
          "data": {
            "text/plain": [
              "<Figure size 1080x216 with 1 Axes>"
            ],
            "image/png": "[encoded data removed]"
          },
          "metadata": {
            "needs_background": "light"
          }
        }
      ],
      "source": [
        "nb_episodes = 5000\n",
        "alpha = 0.1\n",
        "gamma = 0.99\n",
        "epsilon = 0.1\n",
        "\n",
        "q_table = q_learning(env, alpha, gamma, epsilon, nb_episodes)"
      ]
    },
    {
      "cell_type": "markdown",
      "metadata": {
        "id": "CQE6igQq0uEq"
      },
      "source": [
        "Let us have a look at the learned policy."
      ]
    },
    {
      "cell_type": "code",
      "execution_count": 10,
      "metadata": {
        "colab": {
          "base_uri": "https://localhost:8080/"
        },
        "id": "MxbW8fo60uEr",
        "outputId": "b9a7f6c6-ff53-4e9d-dbc2-bddd1c5c2514"
      },
      "outputs": [
        {
          "output_type": "stream",
          "name": "stdout",
          "text": [
            "+---------+\n",
            "|R: | : :G|\n",
            "| : | : : |\n",
            "| : : : : |\n",
            "| | : | : |\n",
            "|\u001b[35m\u001b[34;1m\u001b[43mY\u001b[0m\u001b[0m\u001b[0m| : |B: |\n",
            "+---------+\n",
            "  (Dropoff)\n",
            "\n",
            "Timestep: 14\n",
            "State: 410\n",
            "Reward: 20\n"
          ]
        }
      ],
      "source": [
        "state = env.reset()\n",
        "frames = [] # for animation\n",
        "timesteps = 0\n",
        "while True:\n",
        "  A = np.argmax(q_table[state, :])\n",
        "  state, reward, done, info = env.step(A)\n",
        "  frames.append({\n",
        "    'frame': env.render(mode='ansi'),\n",
        "    'state': state,\n",
        "    'reward': reward\n",
        "    })\n",
        "\n",
        "  if done :\n",
        "    break\n",
        "            \n",
        "display_trajectory(frames)"
      ]
    },
    {
      "cell_type": "markdown",
      "metadata": {
        "id": "TDpIHIus0uEr"
      },
      "source": [
        "# Frozen lake\n",
        "Now, try your algoithm on frozen lake."
      ]
    },
    {
      "cell_type": "code",
      "execution_count": 11,
      "metadata": {
        "colab": {
          "base_uri": "https://localhost:8080/"
        },
        "id": "7VsH-zAC0uEr",
        "outputId": "11f5af53-fa61-4c4d-ebe0-c4c9f4b25aa3"
      },
      "outputs": [
        {
          "output_type": "stream",
          "name": "stdout",
          "text": [
            "\n",
            "\u001b[41mS\u001b[0mFFFFFFF\n",
            "FFFFFFFF\n",
            "FFFHFFFF\n",
            "FFFFFHFF\n",
            "FFFHFFFF\n",
            "FHHFFFHF\n",
            "FHFFHFHF\n",
            "FFFHFFFG\n"
          ]
        }
      ],
      "source": [
        "import gym\n",
        "env = gym.make(\"FrozenLake8x8-v0\")\n",
        "env.render()"
      ]
    },
    {
      "cell_type": "code",
      "execution_count": 12,
      "metadata": {
        "colab": {
          "base_uri": "https://localhost:8080/",
          "height": 227
        },
        "id": "aUBrAsMu0uEs",
        "outputId": "c4a1abdd-c924-45c6-9eef-c614256b430c"
      },
      "outputs": [
        {
          "output_type": "display_data",
          "data": {
            "text/plain": [
              "<Figure size 1080x216 with 1 Axes>"
            ],
            "image/png": "[encoded data removed]"
          },
          "metadata": {
            "needs_background": "light"
          }
        }
      ],
      "source": [
        "nb_episodes = 20000\n",
        "alpha = 0.1\n",
        "gamma = 0.99\n",
        "epsilon = 0.1\n",
        "\n",
        "q_table = q_learning(env, alpha, gamma, epsilon, nb_episodes)"
      ]
    },
    {
      "cell_type": "markdown",
      "metadata": {
        "id": "lv6em7-G0uEs"
      },
      "source": [
        "Your agent has probably not reached a satisfying policy.  \n",
        "This is due to the lack of exploration induced by the $\\epsilon$-greedy policy.\n",
        "Fixing $\\epsilon$ to 0.1 is not sufficient in Frozen Lake. The agent does not explore enougth and thus never receives a positive feedback.  \n",
        "A simple solution would be to use a decaying epsilon from 1 to 0.1."
      ]
    },
    {
      "cell_type": "code",
      "execution_count": 13,
      "metadata": {
        "colab": {
          "base_uri": "https://localhost:8080/",
          "height": 404
        },
        "id": "S8oxHiDy0uEs",
        "outputId": "b977822c-8fe9-4020-c78d-4942c267cf2b"
      },
      "outputs": [
        {
          "output_type": "display_data",
          "data": {
            "text/plain": [
              "<Figure size 720x432 with 1 Axes>"
            ],
            "image/png": "[encoded data removed]"
          },
          "metadata": {
            "needs_background": "light"
          }
        }
      ],
      "source": [
        "decay_rates = [0.9, 0.99, 0.9995, 0.9999]\n",
        "eps_min = 0.1\n",
        "plt.figure(figsize=(10,6))\n",
        "\n",
        "for decay_rate in decay_rates:\n",
        "    eps_list = []\n",
        "    test_eps = 1\n",
        "    for _ in range(nb_episodes):\n",
        "        test_eps = max(test_eps * decay_rate, eps_min)\n",
        "        eps_list.append(test_eps)          \n",
        "    \n",
        "    plt.plot(eps_list, label='decay rate: {}'.format(decay_rate))\n",
        "\n",
        "plt.title('Effect of various decay rates')\n",
        "plt.legend(loc='best')\n",
        "plt.xlabel('# of episodes')\n",
        "plt.ylabel('epsilon')\n",
        "plt.show()"
      ]
    },
    {
      "cell_type": "markdown",
      "metadata": {
        "id": "PWin82po0uEt"
      },
      "source": [
        "Modify your `q_learning` function to decay the learning rate after each episode (don't forget to clip so it does not go below 0.1).\n",
        "Try your function with different values for `epsilon_decay`"
      ]
    },
    {
      "cell_type": "code",
      "execution_count": 18,
      "metadata": {
        "id": "7pFaW5Mu0uEt"
      },
      "outputs": [],
      "source": [
        "def q_learning(env, alpha, gamma, epsilon_decay, nb_episodes):\n",
        "    epsilon = 1\n",
        "    min_epsilon = 0.1\n",
        "    nb_states = env.observation_space.n\n",
        "    nb_actions = env.action_space.n\n",
        "    q_table = np.zeros([nb_states, nb_actions])\n",
        "    training_rewards = np.zeros(nb_episodes)\n",
        "\n",
        "    for i in range(nb_episodes):\n",
        "      s = env.reset()\n",
        "      epsilon = max(epsilon * epsilon_decay, min_epsilon)\n",
        "\n",
        "      while True :\n",
        "        if random.random() < epsilon :\n",
        "          a = env.action_space.sample()\n",
        "        else :\n",
        "          a = np.argmax(q_table[s, :])\n",
        "        \n",
        "        s_prime, reward, done, _ = env.step(a)\n",
        "        q_table[s, a] = q_table[s, a] + alpha * (reward + gamma * np.max(q_table[s_prime, :]) - q_table[s, a])\n",
        "        s = s_prime\n",
        "        training_rewards[i] += 1\n",
        "\n",
        "        if done :\n",
        "          break\n",
        "\n",
        "        if i % 100 == 0:\n",
        "            print_running_mean(training_rewards, i)\n",
        "            \n",
        "    return q_table"
      ]
    },
    {
      "cell_type": "code",
      "execution_count": 19,
      "metadata": {
        "id": "bZldeDW30uEt",
        "colab": {
          "base_uri": "https://localhost:8080/",
          "height": 227
        },
        "outputId": "926ec5c7-b078-45dd-cbc8-1ab2da258ef3"
      },
      "outputs": [
        {
          "output_type": "display_data",
          "data": {
            "text/plain": [
              "<Figure size 1080x216 with 1 Axes>"
            ],
            "image/png": "[encoded data removed]"
          },
          "metadata": {
            "needs_background": "light"
          }
        }
      ],
      "source": [
        "nb_episodes = 20000\n",
        "alpha = 0.1\n",
        "gamma = 0.99\n",
        "epsilon_decay = 0.9999\n",
        "\n",
        "q_table = q_learning(env, alpha, gamma, epsilon_decay, nb_episodes)"
      ]
    },
    {
      "cell_type": "markdown",
      "metadata": {
        "id": "cLzoGfcP0uEt"
      },
      "source": [
        "Let us have a look at the learned policy."
      ]
    },
    {
      "cell_type": "code",
      "execution_count": 20,
      "metadata": {
        "id": "AV2ZvSsC0uEu",
        "colab": {
          "base_uri": "https://localhost:8080/"
        },
        "outputId": "f97c46df-7289-4269-ad68-ebab240300e0"
      },
      "outputs": [
        {
          "output_type": "stream",
          "name": "stdout",
          "text": [
            "  (Right)\n",
            "SFFFFFFF\n",
            "FFFFFFFF\n",
            "FFFHFFFF\n",
            "FFFFFHFF\n",
            "FFFHFFFF\n",
            "FHHFFFHF\n",
            "FHFFHFHF\n",
            "FFFHFFF\u001b[41mG\u001b[0m\n",
            "\n",
            "Timestep: 45\n",
            "State: 63\n",
            "Reward: 1.0\n"
          ]
        }
      ],
      "source": [
        "state = env.reset()\n",
        "frames = [] # for animation\n",
        "timesteps = 0\n",
        "while True:\n",
        "  A = np.argmax(q_table[state, :])\n",
        "  state, reward, done, info = env.step(A)\n",
        "  frames.append({\n",
        "    'frame': env.render(mode='ansi'),\n",
        "    'state': state,\n",
        "    'reward': reward\n",
        "    })\n",
        "\n",
        "  if done :\n",
        "    break\n",
        "            \n",
        "display_trajectory(frames)"
      ]
    },
    {
      "cell_type": "markdown",
      "metadata": {
        "id": "fvZqoAr_0uEu"
      },
      "source": [
        "In these two environments, the State-space was discrete and small enough to learn the entire Q-table.\n",
        "In most cases, this State space is way too large to learn the Q-values for each state.  \n",
        "One solution is to learn an estimator of this Q-function.\n",
        "In the following practical session, you will adapt the Q-learning algorithm to uses neural networks as function approximators."
      ]
    },
    {
      "cell_type": "code",
      "execution_count": null,
      "metadata": {
        "id": "ZHueCc040uEu"
      },
      "outputs": [],
      "source": [
        ""
      ]
    }
  ],
  "metadata": {
    "kernelspec": {
      "display_name": "Python 3",
      "language": "python",
      "name": "python3"
    },
    "language_info": {
      "codemirror_mode": {
        "name": "ipython",
        "version": 3
      },
      "file_extension": ".py",
      "mimetype": "text/x-python",
      "name": "python",
      "nbconvert_exporter": "python",
      "pygments_lexer": "ipython3",
      "version": "3.6.12"
    },
    "colab": {
      "name": "Taxi.ipynb",
      "provenance": [],
      "include_colab_link": true
    }
  },
  "nbformat": 4,
  "nbformat_minor": 0
}